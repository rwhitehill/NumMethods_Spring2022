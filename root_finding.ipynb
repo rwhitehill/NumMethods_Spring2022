{
 "cells": [
  {
   "cell_type": "code",
   "execution_count": 1,
   "id": "dd89a4f8-f54b-44be-8984-a7fbfa2e8bbf",
   "metadata": {},
   "outputs": [],
   "source": [
    "import numpy as np\n",
    "import matplotlib.pyplot as plt\n",
    "import sympy as sp\n",
    "\n",
    "from matplotlib import rcParams\n",
    "rcParams['text.latex.preamble'] = r'\\usepackage{amsmath}'\n",
    "rcParams['text.usetex']         = True\n",
    "rcParams['font.family']         = 'sans-serif'\n",
    "rcParams['font.sans-serif']     = ['Helvetica']"
   ]
  },
  {
   "cell_type": "code",
   "execution_count": 32,
   "id": "0c036081-3b93-4f05-a652-3b148d6c164d",
   "metadata": {},
   "outputs": [],
   "source": [
    "f_s = 'x**2 - 1'\n",
    "f = sp.lambdify(('x'),f_s,'numpy')\n",
    "a = 0\n",
    "b = 10"
   ]
  },
  {
   "cell_type": "code",
   "execution_count": 33,
   "id": "ceff7444-43e7-4000-9bef-f4920b4715a3",
   "metadata": {},
   "outputs": [
    {
     "data": {
      "image/png": "[encoded data removed]",
      "text/plain": [
       "<Figure size 432x288 with 1 Axes>"
      ]
     },
     "metadata": {
      "needs_background": "light"
     },
     "output_type": "display_data"
    }
   ],
   "source": [
    "x = np.linspace(a,b,int(100*abs(a-b)))\n",
    "plt.plot(x,f(x))\n",
    "plt.show()"
   ]
  },
  {
   "cell_type": "code",
   "execution_count": 34,
   "id": "21f3cb12-a208-4276-8e22-1ee68956711b",
   "metadata": {},
   "outputs": [],
   "source": [
    "def bisect_root(f,a,b,M=1e5,T=1e-10,E=1e-10):\n",
    "    assert f(a)*f(b) < 0,'Not guranteed that zero exists by IVT-- try another interval'\n",
    "    \n",
    "    c_steps = []\n",
    "    \n",
    "    for i in range(int(M)):\n",
    "        c = (a+b)/2\n",
    "        c_steps.append(c)\n",
    "        \n",
    "        if abs(a-b) < T or abs(f(c)) < E:\n",
    "            break\n",
    "        \n",
    "        if f(c)*f(a) < 0:\n",
    "            b = c\n",
    "        elif f(c)*f(b) < 0:\n",
    "            a = c\n",
    "        \n",
    "    return np.array(c_steps)"
   ]
  },
  {
   "cell_type": "code",
   "execution_count": 35,
   "id": "d2ab377d-c2cd-4642-abab-5dc1bac62fbb",
   "metadata": {},
   "outputs": [
    {
     "name": "stdout",
     "output_type": "stream",
     "text": [
      "[5.         2.5        1.25       0.625      0.9375     1.09375\n",
      " 1.015625   0.9765625  0.99609375 1.00585938 1.00097656 0.99853516\n",
      " 0.99975586 1.00036621 1.00006104 0.99990845 0.99998474 1.00002289\n",
      " 1.00000381 0.99999428 0.99999905 1.00000143 1.00000024 0.99999964\n",
      " 0.99999994 1.00000009 1.00000001 0.99999998 1.         1.00000001\n",
      " 1.         1.         1.         1.         1.         1.\n",
      " 1.        ]\n",
      "[ 2.40000000e+01  5.25000000e+00  5.62500000e-01 -6.09375000e-01\n",
      " -1.21093750e-01  1.96289062e-01  3.14941406e-02 -4.63256836e-02\n",
      " -7.79724121e-03  1.17530823e-02  1.95407867e-03 -2.92754173e-03\n",
      " -4.88221645e-04  7.32555985e-04  1.22074038e-04 -1.83097087e-04\n",
      " -3.05173453e-05  4.57768911e-05  7.62940908e-06 -1.14440591e-05\n",
      " -1.90734772e-06  2.86102500e-06  4.76837215e-07 -7.15255609e-07\n",
      " -1.19209286e-07  1.78813942e-07  2.98023226e-08 -4.47034831e-08\n",
      " -7.45058060e-09  1.11758709e-08  1.86264515e-09 -2.79396772e-09\n",
      " -4.65661287e-10  6.98491931e-10  1.16415322e-10 -1.74622983e-10\n",
      " -2.91038305e-11]\n"
     ]
    }
   ],
   "source": [
    "root = bisect_root(f,a,b)\n",
    "print(root)\n",
    "print(f(root))"
   ]
  },
  {
   "cell_type": "code",
   "execution_count": 37,
   "id": "030a2d9d-b702-43e9-a97d-ea5fbe184b79",
   "metadata": {},
   "outputs": [
    {
     "data": {
      "image/png": "[encoded data removed]",
      "text/plain": [
       "<Figure size 504x360 with 1 Axes>"
      ]
     },
     "metadata": {
      "needs_background": "light"
     },
     "output_type": "display_data"
    }
   ],
   "source": [
    "x = np.linspace(a,b,int(100*abs(a-b)))\n",
    "\n",
    "fig, ax = plt.subplots(nrows=1,ncols=1,figsize=(7,5))\n",
    "\n",
    "ax.plot(x,f(x),'r--')\n",
    "ax.axhline(0,color='c',linestyle='-.')\n",
    "ax.plot(root[:-1],f(root)[:-1],'k.',markersize=10)\n",
    "ax.plot(root[-1],f(root)[-1],'k.',markersize=20)\n",
    "\n",
    "ax.set_ylabel(r'$f(x)$',size=20)\n",
    "ax.set_xlabel(r'$x$',size=20)\n",
    "ax.set_title(r'$%s = 0$'%sp.latex(sp.parse_expr(f_s)),fontsize=20)\n",
    "ax.set_xlim(a,b)\n",
    "ax.set_ylim(f(a),f(b))\n",
    "ax.tick_params(axis='both',which='major',labelsize=15,direction='in')\n",
    "\n",
    "plt.show()"
   ]
  },
  {
   "cell_type": "code",
   "execution_count": null,
   "id": "3e9a00aa-c2a4-4983-b642-0cfdaf50098e",
   "metadata": {},
   "outputs": [],
   "source": []
  }
 ],
 "metadata": {
  "kernelspec": {
   "display_name": "Python 3 (ipykernel)",
   "language": "python",
   "name": "python3"
  },
  "language_info": {
   "codemirror_mode": {
    "name": "ipython",
    "version": 3
   },
   "file_extension": ".py",
   "mimetype": "text/x-python",
   "name": "python",
   "nbconvert_exporter": "python",
   "pygments_lexer": "ipython3",
   "version": "3.9.9"
  }
 },
 "nbformat": 4,
 "nbformat_minor": 5
}
