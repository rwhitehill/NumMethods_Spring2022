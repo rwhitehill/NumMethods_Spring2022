{
 "cells": [
  {
   "cell_type": "code",
   "execution_count": 2,
   "id": "cadbd828-27a0-40a4-adfb-c9f8e7971fd0",
   "metadata": {},
   "outputs": [],
   "source": [
    "import sympy as sp"
   ]
  },
  {
   "cell_type": "code",
   "execution_count": 13,
   "id": "f6cf9148-21a0-48ba-a68b-e8dfe674a420",
   "metadata": {},
   "outputs": [
    {
     "data": {
      "text/latex": [
       "$\\displaystyle 4 \\sqrt{2} + 6$"
      ],
      "text/plain": [
       "4*sqrt(2) + 6"
      ]
     },
     "execution_count": 13,
     "metadata": {},
     "output_type": "execute_result"
    }
   ],
   "source": [
    "A = sp.Matrix([[2,-1,0],[-1,2,-1],[0,-1,2]])\n",
    "eigenvals = (A.T*A).eigenvals()\n",
    "lam = sp.symbols('lambda')\n",
    "expr = (A.T*A - lam*sp.eye(3)).det()\n",
    "sp.solve(expr,lam)[2]"
   ]
  },
  {
   "cell_type": "code",
   "execution_count": 14,
   "id": "f1ea3106-73bd-4f0b-b075-56a92413b062",
   "metadata": {},
   "outputs": [
    {
     "data": {
      "text/plain": [
       "{4: 1, 6 - 4*sqrt(2): 1, 4*sqrt(2) + 6: 1}"
      ]
     },
     "execution_count": 14,
     "metadata": {},
     "output_type": "execute_result"
    }
   ],
   "source": [
    "eigenvals"
   ]
  },
  {
   "cell_type": "code",
   "execution_count": null,
   "id": "80542d98-040a-4970-bde9-a64b71745731",
   "metadata": {},
   "outputs": [],
   "source": []
  }
 ],
 "metadata": {
  "kernelspec": {
   "display_name": "Python 3 (ipykernel)",
   "language": "python",
   "name": "python3"
  },
  "language_info": {
   "codemirror_mode": {
    "name": "ipython",
    "version": 3
   },
   "file_extension": ".py",
   "mimetype": "text/x-python",
   "name": "python",
   "nbconvert_exporter": "python",
   "pygments_lexer": "ipython3",
   "version": "3.9.9"
  }
 },
 "nbformat": 4,
 "nbformat_minor": 5
}
