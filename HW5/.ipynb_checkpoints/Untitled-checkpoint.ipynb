{
 "cells": [
  {
   "cell_type": "code",
   "execution_count": 1,
   "id": "91db3893-7ad8-4539-97c9-179bef2f753f",
   "metadata": {},
   "outputs": [],
   "source": [
    "import sympy as sp"
   ]
  },
  {
   "cell_type": "code",
   "execution_count": 5,
   "id": "1f99c2ab-62d8-4185-8b93-1401e1123179",
   "metadata": {},
   "outputs": [],
   "source": [
    "x = sp.symbols('x',real=True)\n",
    "h = sp.symbols('h',real=True,positive=True)\n",
    "f = sp.symbols('f',real=True,cls=sp.Function)"
   ]
  },
  {
   "cell_type": "code",
   "execution_count": 14,
   "id": "8ac33480-baa6-4a66-aca2-aa355d776030",
   "metadata": {},
   "outputs": [],
   "source": [
    "f1 = sp.series(f(x+3*h),h,n=4).subs(sp.Order(x**4),0)\n",
    "f2 = f(x)\n",
    "f3 = sp.series(f(x-h),h)"
   ]
  },
  {
   "cell_type": "code",
   "execution_count": 15,
   "id": "5f00d2c0-c73b-4048-9c99-e5a9f57f9714",
   "metadata": {},
   "outputs": [
    {
     "data": {
      "text/latex": [
       "$\\displaystyle f{\\left(x \\right)} + 3 h \\left. \\frac{d}{d \\xi_{1}} f{\\left(\\xi_{1} \\right)} \\right|_{\\substack{ \\xi_{1}=x }} + \\frac{9 h^{2} \\left. \\frac{d^{2}}{d \\xi_{1}^{2}} f{\\left(\\xi_{1} \\right)} \\right|_{\\substack{ \\xi_{1}=x }}}{2} + \\frac{9 h^{3} \\left. \\frac{d^{3}}{d \\xi_{1}^{3}} f{\\left(\\xi_{1} \\right)} \\right|_{\\substack{ \\xi_{1}=x }}}{2} + O\\left(h^{4}\\right)$"
      ],
      "text/plain": [
       "f(x) + 3*h*Subs(Derivative(f(_xi_1), _xi_1), _xi_1, x) + 9*h**2*Subs(Derivative(f(_xi_1), (_xi_1, 2)), _xi_1, x)/2 + 9*h**3*Subs(Derivative(f(_xi_1), (_xi_1, 3)), _xi_1, x)/2 + O(h**4)"
      ]
     },
     "execution_count": 15,
     "metadata": {},
     "output_type": "execute_result"
    }
   ],
   "source": [
    "f1"
   ]
  },
  {
   "cell_type": "code",
   "execution_count": null,
   "id": "d4d6155e-9e3b-4a34-82bd-e32b8b9b7ee1",
   "metadata": {},
   "outputs": [],
   "source": []
  }
 ],
 "metadata": {
  "kernelspec": {
   "display_name": "Python 3 (ipykernel)",
   "language": "python",
   "name": "python3"
  },
  "language_info": {
   "codemirror_mode": {
    "name": "ipython",
    "version": 3
   },
   "file_extension": ".py",
   "mimetype": "text/x-python",
   "name": "python",
   "nbconvert_exporter": "python",
   "pygments_lexer": "ipython3",
   "version": "3.9.12"
  }
 },
 "nbformat": 4,
 "nbformat_minor": 5
}
